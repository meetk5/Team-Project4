{
 "cells": [
  {
   "cell_type": "code",
   "execution_count": null,
   "id": "4f6e1474",
   "metadata": {},
   "outputs": [],
   "source": [
    "import pandas as pd\n",
    "import numpy as np\n",
    "import csv\n",
    "import matplotlib.pyplot as plt\n",
    "from sklearn.metrics import confusion_matrix, classification_report\n",
    "from sklearn.model_selection import train_test_split\n",
    "from sklearn.preprocessing import StandardScaler, LabelEncoder, MinMaxScaler\n",
    "from sklearn.linear_model import LogisticRegression\n",
    "from sklearn.ensemble import RandomForestClassifier, ExtraTreesClassifier, AdaBoostClassifier\n",
    "from sklearn.model_selection import RandomizedSearchCV\n",
    "from sklearn.tree import DecisionTreeClassifier\n",
    "from sklearn.neighbors import KNeighborsClassifier"
   ]
  },
  {
   "cell_type": "code",
   "execution_count": null,
   "id": "a2647af8",
   "metadata": {},
   "outputs": [],
   "source": [
    "# Reading TV Time CSV Data\n",
    "tvshows_df = pd.read_csv(\"Data/tvtimeshows.csv\")\n",
    "tvshows_df.head()"
   ]
  },
  {
   "cell_type": "code",
   "execution_count": null,
   "id": "d8db4aea",
   "metadata": {},
   "outputs": [],
   "source": [
    "# Reading All Episodes CSV Data\n",
    "episode_df = pd.read_csv(\"Data/all_episodes.csv\")\n",
    "episode_df.head()"
   ]
  },
  {
   "cell_type": "code",
   "execution_count": null,
   "id": "5afd94ab",
   "metadata": {},
   "outputs": [],
   "source": [
    "pd.set_option('display.max_columns', None)"
   ]
  },
  {
   "cell_type": "code",
   "execution_count": null,
   "id": "730b1e75",
   "metadata": {},
   "outputs": [],
   "source": [
    "# Merging both dataframe on Show Id\n",
    "merged_df = pd.merge(episode_df, tvshows_df, how=\"inner\", left_on=\"show_id\", right_on=\"id\")\n",
    "merged_df.head()"
   ]
  },
  {
   "cell_type": "code",
   "execution_count": null,
   "id": "bceb04ea",
   "metadata": {},
   "outputs": [],
   "source": [
    "merged_df[\"network\"].value_counts().head(20)"
   ]
  },
  {
   "cell_type": "code",
   "execution_count": null,
   "id": "7daa9840",
   "metadata": {},
   "outputs": [],
   "source": [
    "# Reading only American Network Names and sorting it by count of titles\n",
    "us_network = pd.read_csv(\"Data/network_names.csv\")\n",
    "us_network = us_network.sort_values(by='Count of title', ascending=False, ignore_index=True)\n",
    "us_network.head(20)"
   ]
  },
  {
   "cell_type": "code",
   "execution_count": null,
   "id": "8c206560",
   "metadata": {},
   "outputs": [],
   "source": [
    "# Inner Merge on Merged Dataframe and American Network Data\n",
    "merged_us_data = pd.merge(merged_df, us_network, \n",
    "                          how=\"inner\", \n",
    "                          left_on=\"network\", \n",
    "                          right_on=\"USA Networks\").drop(columns=['id', 'USA Networks', 'Count of title', \n",
    "                                                                 'description','seasons', 'nb_rates', \n",
    "                                                                 'rating', 'title'])\n",
    "\n",
    "merged_us_data"
   ]
  },
  {
   "cell_type": "code",
   "execution_count": null,
   "id": "de2cb6d7",
   "metadata": {},
   "outputs": [],
   "source": [
    "merged_us_data.dtypes"
   ]
  },
  {
   "cell_type": "code",
   "execution_count": null,
   "id": "d3633443",
   "metadata": {},
   "outputs": [],
   "source": [
    "# Converting Object datatype of Time column to String\n",
    "merged_us_data['time'] = merged_us_data['time'].astype('string')"
   ]
  },
  {
   "cell_type": "code",
   "execution_count": null,
   "id": "f983ee8e",
   "metadata": {},
   "outputs": [],
   "source": [
    "# Parsing timeslot from the time data using string split function\n",
    "merged_us_data['timeslot'] = merged_us_data['time'].str.split(pat='T').str[1]"
   ]
  },
  {
   "cell_type": "code",
   "execution_count": null,
   "id": "73f9711f",
   "metadata": {},
   "outputs": [],
   "source": [
    "# Parsing year from the time data using string split function\n",
    "year = merged_us_data['time'].str.split(pat='T').str[0]\n",
    "merged_us_data['year'] = year.str.split(pat='-').str[0]"
   ]
  },
  {
   "cell_type": "code",
   "execution_count": null,
   "id": "515b8b77",
   "metadata": {},
   "outputs": [],
   "source": [
    "merged_us_data"
   ]
  },
  {
   "cell_type": "code",
   "execution_count": null,
   "id": "f3a465fc",
   "metadata": {},
   "outputs": [],
   "source": [
    "# Filtering Data between runtime (15 - 90 mins) for tv shows\n",
    "runtime_df = merged_us_data.loc[(merged_us_data['runtime'] >= 15) & (merged_us_data['runtime'] <= 90)]\n",
    "runtime_df"
   ]
  },
  {
   "cell_type": "code",
   "execution_count": null,
   "id": "523714a1",
   "metadata": {},
   "outputs": [],
   "source": [
    "runtime_df['mood-good'].value_counts().sort_index(ascending=True)"
   ]
  },
  {
   "cell_type": "code",
   "execution_count": null,
   "id": "2c423f7a",
   "metadata": {},
   "outputs": [],
   "source": [
    "runtime_df['mood-fun'].value_counts().sort_index(ascending=True)"
   ]
  },
  {
   "cell_type": "code",
   "execution_count": null,
   "id": "ad9e2d99",
   "metadata": {},
   "outputs": [],
   "source": [
    "runtime_df['mood-wow'].value_counts().sort_index(ascending=True)"
   ]
  },
  {
   "cell_type": "code",
   "execution_count": null,
   "id": "8e60e90e",
   "metadata": {},
   "outputs": [],
   "source": [
    "runtime_df['mood-sad'].value_counts().sort_index(ascending=True)"
   ]
  },
  {
   "cell_type": "code",
   "execution_count": null,
   "id": "443ffd07",
   "metadata": {},
   "outputs": [],
   "source": [
    "runtime_df['mood-so-so'].value_counts().sort_index(ascending=True)"
   ]
  },
  {
   "cell_type": "code",
   "execution_count": null,
   "id": "d68a426e",
   "metadata": {},
   "outputs": [],
   "source": [
    "runtime_df['mood-bad'].value_counts().sort_index(ascending=True)"
   ]
  },
  {
   "cell_type": "code",
   "execution_count": null,
   "id": "df434848",
   "metadata": {},
   "outputs": [],
   "source": [
    "# Create dataframe for all episode entries where all mood reactions are zero\n",
    "mood_df = runtime_df.loc[(runtime_df['mood-good'] == 0) & \n",
    "                         (runtime_df['mood-fun'] == 0) & \n",
    "                         (runtime_df['mood-wow'] == 0) & \n",
    "                         (runtime_df['mood-sad'] == 0) & \n",
    "                         (runtime_df['mood-so-so'] == 0) & \n",
    "                         (runtime_df['mood-bad'] == 0)]\n",
    "\n",
    "mood_df"
   ]
  },
  {
   "cell_type": "code",
   "execution_count": null,
   "id": "64f2dd77",
   "metadata": {},
   "outputs": [],
   "source": [
    "# Filtering mood_df data from runtime_df\n",
    "mood_filter_df = runtime_df.merge(mood_df, how=\"left\", indicator=True)\n",
    "mood_filter_df = mood_filter_df[mood_filter_df['_merge'] == 'left_only']\n",
    "mood_filter_df"
   ]
  },
  {
   "cell_type": "code",
   "execution_count": null,
   "id": "ded20513",
   "metadata": {},
   "outputs": [],
   "source": [
    "del mood_filter_df['_merge']"
   ]
  },
  {
   "cell_type": "code",
   "execution_count": null,
   "id": "05c97ae6",
   "metadata": {},
   "outputs": [],
   "source": [
    "mood_filter_df['network'].value_counts().head(20)"
   ]
  },
  {
   "cell_type": "code",
   "execution_count": null,
   "id": "6e9c9ae0",
   "metadata": {},
   "outputs": [],
   "source": [
    "mood_filter_df['runtime'].value_counts().sort_index(ascending=True)"
   ]
  },
  {
   "cell_type": "code",
   "execution_count": null,
   "id": "93d5b190",
   "metadata": {},
   "outputs": [],
   "source": [
    "mood_filter_df.loc[mood_filter_df['runtime'] == 20]"
   ]
  },
  {
   "cell_type": "code",
   "execution_count": null,
   "id": "b1e46f70",
   "metadata": {},
   "outputs": [],
   "source": [
    "mood_filter_df.loc[mood_filter_df['name'].str.contains('Christmas', case=False, regex=False)].head(40)"
   ]
  },
  {
   "cell_type": "code",
   "execution_count": null,
   "id": "ab3062c8",
   "metadata": {},
   "outputs": [],
   "source": [
    "# Remove entries that are not TV shows\n",
    "mask1 = mood_filter_df['name'].str.contains('Christmas', case=False, regex=False)\n",
    "mask2 = mood_filter_df['name'].str.contains('Awards', case=False, regex=False)\n",
    "mask3 = mood_filter_df['name'].str.contains('WWE', case=False, regex=False)\n",
    "mask4 = mood_filter_df['name'].str.contains('Presidential', case=False, regex=False)\n",
    "mask5 = mood_filter_df['name'].str.contains('Thanksgiving', case=False, regex=False)\n",
    "mask6 = mood_filter_df['name'].str.contains('World cup', case=False, regex=False)\n",
    "mask7 = mood_filter_df['name'].str.contains('Boxing', case=False, regex=False)\n",
    "mask8 = mood_filter_df['name'].str.contains('Miss Universe', case=False, regex=False)\n",
    "# mask9 = mood_filter_df['name'].str.contains('', case=False, regex=False)"
   ]
  },
  {
   "cell_type": "code",
   "execution_count": null,
   "id": "60a79129",
   "metadata": {},
   "outputs": [],
   "source": [
    "# Club all non-TV shows entries into an unwanted dataframe\n",
    "unwanted_df = mood_filter_df[mask1 | mask2 | mask3 | mask4 | mask5 | mask7 | mask8]\n",
    "unwanted_df"
   ]
  },
  {
   "cell_type": "code",
   "execution_count": null,
   "id": "6199c9d5",
   "metadata": {},
   "outputs": [],
   "source": [
    "# Filtering non-tv shows from the mood_filter data\n",
    "us_tv_shows = mood_filter_df.merge(unwanted_df, how=\"left\", indicator=True)\n",
    "us_tv_shows = us_tv_shows[us_tv_shows['_merge'] == 'left_only']\n",
    "us_tv_shows"
   ]
  },
  {
   "cell_type": "code",
   "execution_count": null,
   "id": "c1b8f61a",
   "metadata": {},
   "outputs": [],
   "source": [
    "# Filtering all titles where episode numbers are less than 4\n",
    "episode_df = us_tv_shows['show_id'].value_counts(ascending=True)\n",
    "episode_df = episode_df[episode_df > 3]\n",
    "filtered_episode_df = episode_df.to_frame().reset_index().rename(columns={'index':'show_id', 'show_id':'episode_count'})\n",
    "filtered_episode_df"
   ]
  },
  {
   "cell_type": "code",
   "execution_count": null,
   "id": "5d642c76",
   "metadata": {},
   "outputs": [],
   "source": [
    "# All US episodes data\n",
    "us_episodes_df = pd.merge(us_tv_shows, \n",
    "                          filtered_episode_df, \n",
    "                          how=\"inner\", \n",
    "                          on=\"show_id\").drop(columns={'_merge', 'episode_count'})\n",
    "us_episodes_df"
   ]
  },
  {
   "cell_type": "code",
   "execution_count": null,
   "id": "b5b7cb17",
   "metadata": {},
   "outputs": [],
   "source": [
    "us_episodes_df.to_csv(\"US_Data/us_episodes.csv\")"
   ]
  },
  {
   "cell_type": "code",
   "execution_count": null,
   "id": "9523d28a",
   "metadata": {},
   "outputs": [],
   "source": [
    "# Top 9 US Network count and removing Netflix as a network\n",
    "top_us_networks = us_episodes_df['network'].value_counts().head(10).to_frame().reset_index().rename(columns={'index':'network', 'network':'count'})\n",
    "top_us_networks = top_us_networks.loc[top_us_networks['network'] != 'Netflix']\n",
    "top_us_networks"
   ]
  },
  {
   "cell_type": "code",
   "execution_count": null,
   "id": "1d931d77",
   "metadata": {},
   "outputs": [],
   "source": [
    "# Final clean Dataframe\n",
    "final_df =  pd.merge(us_episodes_df, \n",
    "                     top_us_networks, \n",
    "                     how=\"inner\", \n",
    "                     on='network').drop(columns=['count', 'time', 'number_of_seasons'])\n",
    "final_df"
   ]
  },
  {
   "cell_type": "code",
   "execution_count": null,
   "id": "b9fcc06d",
   "metadata": {},
   "outputs": [],
   "source": [
    "final_df['network'].value_counts()"
   ]
  },
  {
   "cell_type": "markdown",
   "id": "a20cde4e",
   "metadata": {},
   "source": [
    "### Supervised Machine Learning - Data Pre Processing"
   ]
  },
  {
   "cell_type": "code",
   "execution_count": null,
   "id": "eb16db86",
   "metadata": {},
   "outputs": [],
   "source": [
    "# Creating Machine Learning dataframe by groupby on Show Ids\n",
    "ml_df = final_df.groupby(by=[\"show_id\"]).agg({'times_watched':'mean',\"mood-good\":'mean', \"mood-fun\":'mean', \n",
    "                                              \"mood-wow\":'mean', \"mood-sad\":'mean', \"mood-so-so\":'mean', \n",
    "                                              \"mood-bad\":'mean', \"name\":'first', \"followers\":'mean', \n",
    "                                              \"runtime\":'mean', \"network\": 'first', \"mean_rate\":'mean', \n",
    "                                              \"poster_image\":'first'})\n",
    "ml_df"
   ]
  },
  {
   "cell_type": "code",
   "execution_count": null,
   "id": "74a656a3",
   "metadata": {},
   "outputs": [],
   "source": [
    "ml_df.to_csv(\"US_Data/model_data.csv\")"
   ]
  },
  {
   "cell_type": "code",
   "execution_count": null,
   "id": "f51e85e8",
   "metadata": {},
   "outputs": [],
   "source": [
    "# X dataset with all Moods as feature\n",
    "X = ml_df.drop(columns=[\"name\",\"network\", \"times_watched\", \"followers\", \"runtime\", \"mean_rate\", \"poster_image\"])\n",
    "X"
   ]
  },
  {
   "cell_type": "code",
   "execution_count": null,
   "id": "1a6e7aaf",
   "metadata": {},
   "outputs": [],
   "source": [
    "# y dataset with Networks as labels\n",
    "y = ml_df[[\"network\"]]\n",
    "y"
   ]
  },
  {
   "cell_type": "code",
   "execution_count": null,
   "id": "d58eb26b",
   "metadata": {},
   "outputs": [],
   "source": [
    "# Label Encoding\n",
    "le = LabelEncoder()\n",
    "y_label = le.fit_transform(y['network'])\n",
    "y_label"
   ]
  },
  {
   "cell_type": "code",
   "execution_count": null,
   "id": "adc4639a",
   "metadata": {},
   "outputs": [],
   "source": [
    "# Unique Label Encoding values\n",
    "np.unique(y_label)"
   ]
  },
  {
   "cell_type": "code",
   "execution_count": null,
   "id": "c15acba5",
   "metadata": {},
   "outputs": [],
   "source": [
    "# Split dataset into Training & Testing Data\n",
    "X_train, X_test, y_train, y_test = train_test_split(X, y_label, random_state=1)"
   ]
  },
  {
   "cell_type": "code",
   "execution_count": null,
   "id": "368e3cb5",
   "metadata": {},
   "outputs": [],
   "source": [
    "# Using MinMaxScaler to scale feature values between 1 and 100\n",
    "scaler = MinMaxScaler(feature_range=(1,100)).fit(X_train)\n",
    "X_train_scaled = scaler.transform(X_train)\n",
    "X_train_scaled"
   ]
  },
  {
   "cell_type": "code",
   "execution_count": null,
   "id": "e9b9ada0",
   "metadata": {},
   "outputs": [],
   "source": [
    "# Scaling Test data values\n",
    "X_test_scaled = scaler.transform(X_test)\n",
    "X_test_scaled"
   ]
  },
  {
   "cell_type": "code",
   "execution_count": null,
   "id": "800a6051",
   "metadata": {},
   "outputs": [],
   "source": [
    "print(X_test_scaled.shape, y_test.shape, X_train_scaled.shape, y_train.shape)"
   ]
  },
  {
   "cell_type": "markdown",
   "id": "bf7a70f9",
   "metadata": {},
   "source": [
    "### Logistic Regression"
   ]
  },
  {
   "cell_type": "code",
   "execution_count": null,
   "id": "17ec1327",
   "metadata": {},
   "outputs": [],
   "source": [
    "classifier = LogisticRegression(max_iter = 2000)\n",
    "classifier"
   ]
  },
  {
   "cell_type": "code",
   "execution_count": null,
   "id": "147db272",
   "metadata": {},
   "outputs": [],
   "source": [
    "# Fit the model\n",
    "classifier.fit(X_train_scaled, y_train)"
   ]
  },
  {
   "cell_type": "code",
   "execution_count": null,
   "id": "4f7c1668",
   "metadata": {},
   "outputs": [],
   "source": [
    "# Display Training & Testing Score\n",
    "print(f\"Training Data Score (Logistic Regression Model): {classifier.score(X_train_scaled, y_train)}\")\n",
    "print(f\"Testing Data Score (Logistic Regression Model): {classifier.score(X_test_scaled, y_test)}\")"
   ]
  },
  {
   "cell_type": "code",
   "execution_count": null,
   "id": "403dea45",
   "metadata": {},
   "outputs": [],
   "source": [
    "# Predict Y values using the model\n",
    "y_pred_lr = classifier.predict(X_test_scaled)\n",
    "y_pred_lr"
   ]
  },
  {
   "cell_type": "code",
   "execution_count": null,
   "id": "0af58dd5",
   "metadata": {},
   "outputs": [],
   "source": [
    "print(classification_report(y_test, y_pred_lr))"
   ]
  },
  {
   "cell_type": "markdown",
   "id": "cce36803",
   "metadata": {},
   "source": [
    "### Random Forests Classifiers"
   ]
  },
  {
   "cell_type": "code",
   "execution_count": null,
   "id": "462f48e9",
   "metadata": {},
   "outputs": [],
   "source": [
    "# Train a Random Forest Classifier model and print the model score\n",
    "clf = RandomForestClassifier(random_state=1, n_estimators=100).fit(X_train_scaled, y_train)"
   ]
  },
  {
   "cell_type": "code",
   "execution_count": null,
   "id": "266ad8d8",
   "metadata": {},
   "outputs": [],
   "source": [
    "# Display Training & Testing Score\n",
    "print(f'Training Data Score (Random Forests Classifier): {clf.score(X_train_scaled, y_train)}')\n",
    "print(f'Testing Data Score (Random Forests Classifier): {clf.score(X_test_scaled, y_test)}')"
   ]
  },
  {
   "cell_type": "code",
   "execution_count": null,
   "id": "36211041",
   "metadata": {},
   "outputs": [],
   "source": [
    "y_pred_rf = classifier.predict(X_test_scaled)\n",
    "y_pred_rf"
   ]
  },
  {
   "cell_type": "code",
   "execution_count": null,
   "id": "19ca5dc3",
   "metadata": {},
   "outputs": [],
   "source": [
    "print(classification_report(y_test, y_pred_rf))"
   ]
  },
  {
   "cell_type": "code",
   "execution_count": null,
   "id": "325c8c47",
   "metadata": {},
   "outputs": [],
   "source": [
    "# Extra Trees\n",
    "clf_extra = ExtraTreesClassifier(random_state=1, n_estimators=100).fit(X_train_scaled, y_train)\n",
    "print(f'Training Data Score (Extra Trees Classifier): {clf_extra.score(X_train_scaled, y_train)}')\n",
    "print(f'Testing Data Score (Extra Trees Classifier): {clf_extra.score(X_test_scaled, y_test)}')"
   ]
  },
  {
   "cell_type": "code",
   "execution_count": null,
   "id": "115b21a1",
   "metadata": {},
   "outputs": [],
   "source": [
    "# Ad a Boost\n",
    "clf_adaboost = AdaBoostClassifier(random_state=1, n_estimators=100, base_estimator=DecisionTreeClassifier(max_depth=2)).fit(X_train_scaled, y_train)\n",
    "print(f'Training Data Score (Ad a Boost): {clf_adaboost.score(X_train_scaled, y_train)}')\n",
    "print(f'Testing Data Score (Ad a Boost): {clf_adaboost.score(X_test_scaled, y_test)}')"
   ]
  },
  {
   "cell_type": "markdown",
   "id": "37b60ba9",
   "metadata": {},
   "source": [
    "### Random Forests (Using Hypertuned Model)"
   ]
  },
  {
   "cell_type": "code",
   "execution_count": null,
   "id": "1d7d7822",
   "metadata": {},
   "outputs": [],
   "source": [
    "# Train a Random Forest Classifier for hypertuning\n",
    "random_model_hp = RandomForestClassifier()\n",
    "random_model_hp"
   ]
  },
  {
   "cell_type": "code",
   "execution_count": null,
   "id": "49a355aa",
   "metadata": {},
   "outputs": [],
   "source": [
    "# Define values of n_estimators\n",
    "random_param_grid = {'n_estimators': np.arange(0,550,50)}\n",
    "random_param_grid"
   ]
  },
  {
   "cell_type": "code",
   "execution_count": null,
   "id": "96ea20db",
   "metadata": {},
   "outputs": [],
   "source": [
    "model = RandomizedSearchCV(random_model_hp, random_param_grid, random_state=1, verbose=3)\n",
    "model"
   ]
  },
  {
   "cell_type": "code",
   "execution_count": null,
   "id": "1272c670",
   "metadata": {},
   "outputs": [],
   "source": [
    "# Fit the model by using the randomized search estimator\n",
    "model.fit(X_train_scaled, y_train)"
   ]
  },
  {
   "cell_type": "code",
   "execution_count": null,
   "id": "4de26482",
   "metadata": {},
   "outputs": [],
   "source": [
    "print(model.best_params_)"
   ]
  },
  {
   "cell_type": "code",
   "execution_count": null,
   "id": "20ce183f",
   "metadata": {},
   "outputs": [],
   "source": [
    "print(model.best_score_)"
   ]
  },
  {
   "cell_type": "code",
   "execution_count": null,
   "id": "04f14ab5",
   "metadata": {},
   "outputs": [],
   "source": [
    "model.score(X_test_scaled, y_test)"
   ]
  },
  {
   "cell_type": "code",
   "execution_count": null,
   "id": "89e4313a",
   "metadata": {},
   "outputs": [],
   "source": [
    "y_pred_rf_hp = model.predict(X_test_scaled)\n",
    "y_pred_rf_hp"
   ]
  },
  {
   "cell_type": "markdown",
   "id": "11cd517b",
   "metadata": {},
   "source": [
    "### Extra Trees (Using Hypertuned Model)"
   ]
  },
  {
   "cell_type": "code",
   "execution_count": null,
   "id": "268302dd",
   "metadata": {},
   "outputs": [],
   "source": [
    "# Train a Random Forest Classifier for hypertuning\n",
    "extra_model_hp = ExtraTreesClassifier()\n",
    "extra_model_hp"
   ]
  },
  {
   "cell_type": "code",
   "execution_count": null,
   "id": "9d730393",
   "metadata": {},
   "outputs": [],
   "source": [
    "# Define values of n_estimators\n",
    "extra_param_grid = {'n_estimators': np.arange(0,550,50)}\n",
    "extra_param_grid"
   ]
  },
  {
   "cell_type": "code",
   "execution_count": null,
   "id": "04248939",
   "metadata": {},
   "outputs": [],
   "source": [
    "model_et = RandomizedSearchCV(extra_model_hp, extra_param_grid, random_state=1, verbose=3)\n",
    "model_et"
   ]
  },
  {
   "cell_type": "code",
   "execution_count": null,
   "id": "7422e768",
   "metadata": {},
   "outputs": [],
   "source": [
    "model_et.fit(X_train_scaled, y_train)"
   ]
  },
  {
   "cell_type": "code",
   "execution_count": null,
   "id": "1b4f13de",
   "metadata": {},
   "outputs": [],
   "source": [
    "print(model_et.best_params_)"
   ]
  },
  {
   "cell_type": "code",
   "execution_count": null,
   "id": "4db4cc10",
   "metadata": {},
   "outputs": [],
   "source": [
    "print(model_et.best_score_)"
   ]
  },
  {
   "cell_type": "code",
   "execution_count": null,
   "id": "d0d02499",
   "metadata": {},
   "outputs": [],
   "source": [
    "model_et.score(X_test_scaled, y_test)"
   ]
  },
  {
   "cell_type": "code",
   "execution_count": null,
   "id": "48efef99",
   "metadata": {},
   "outputs": [],
   "source": [
    "y_pred_et_hp = model_et.predict(X_test_scaled)\n",
    "y_pred_et_hp"
   ]
  },
  {
   "cell_type": "markdown",
   "id": "e5f45380",
   "metadata": {},
   "source": [
    "### KNN"
   ]
  },
  {
   "cell_type": "code",
   "execution_count": null,
   "id": "056c97b4",
   "metadata": {},
   "outputs": [],
   "source": [
    "# Loop through different k values to find which has the highest accuracy.\n",
    "# Note: We use only odd numbers because we don't want any ties.\n",
    "train_scores = []\n",
    "test_scores = []\n",
    "for k in range(1, 30, 2):\n",
    "    knn = KNeighborsClassifier(n_neighbors=k)\n",
    "    knn.fit(X_train_scaled, y_train)\n",
    "    train_score = knn.score(X_train_scaled, y_train)\n",
    "    test_score = knn.score(X_test_scaled, y_test)\n",
    "    train_scores.append(train_score)\n",
    "    test_scores.append(test_score)\n",
    "    print(f\"k: {k}, Train/Test Score: {train_score:.3f}/{test_score:.3f}\")\n",
    "    \n",
    "    \n",
    "plt.plot(range(1, 30, 2), train_scores, marker='o')\n",
    "plt.plot(range(1, 30, 2), test_scores, marker=\"x\")\n",
    "plt.xlabel(\"k neighbors\")\n",
    "plt.ylabel(\"Testing accuracy Score\")\n",
    "plt.show()"
   ]
  },
  {
   "cell_type": "code",
   "execution_count": null,
   "id": "2d1eef6c",
   "metadata": {},
   "outputs": [],
   "source": [
    "knn = KNeighborsClassifier(n_neighbors=15)\n",
    "knn.fit(X_train_scaled, y_train)\n",
    "print('k=15 Test Acc: %.3f' % knn.score(X_test_scaled, y_test))"
   ]
  },
  {
   "cell_type": "code",
   "execution_count": null,
   "id": "289f0683",
   "metadata": {},
   "outputs": [],
   "source": [
    "knn.score(X_train_scaled, y_train)"
   ]
  },
  {
   "cell_type": "code",
   "execution_count": null,
   "id": "3b784dc7",
   "metadata": {},
   "outputs": [],
   "source": [
    "# Predicting show using KNN and user input\n",
    "user_entry = [[8, 45, 35, 30, 60, 9]]\n",
    "predicted_network_knn = knn.predict(user_entry)\n",
    "print(le.inverse_transform(predicted_network_knn))"
   ]
  },
  {
   "cell_type": "code",
   "execution_count": null,
   "id": "57a36552",
   "metadata": {},
   "outputs": [],
   "source": [
    "# Predicting show using Random Forest Hypertuned Model\n",
    "user_entry = [[8, 45, 35, 30, 60, 9]]\n",
    "predicted_network = model.predict(user_entry)\n",
    "print(le.inverse_transform(predicted_network))"
   ]
  },
  {
   "cell_type": "code",
   "execution_count": null,
   "id": "b7a0ae47",
   "metadata": {},
   "outputs": [],
   "source": [
    "# Predicting show using Random Forest Hypertuned Model\n",
    "user_entry = [[8, 45, 35, 30, 60, 9]]\n",
    "predicted_network_et = model_et.predict(user_entry)\n",
    "print(le.inverse_transform(predicted_network))"
   ]
  },
  {
   "cell_type": "code",
   "execution_count": null,
   "id": "d776868b",
   "metadata": {},
   "outputs": [],
   "source": [
    "# Save network predictor Model\n",
    "import joblib\n",
    "joblib.dump(model_et,\"network_predictor.h5\")"
   ]
  }
 ],
 "metadata": {
  "interpreter": {
   "hash": "e2eb8343a20bf9d2dc9f4c058f708ccab4b4f3bb7e1f574b2601e16fd5b6429b"
  },
  "kernelspec": {
   "display_name": "Python 3",
   "language": "python",
   "name": "python3"
  },
  "language_info": {
   "codemirror_mode": {
    "name": "ipython",
    "version": 3
   },
   "file_extension": ".py",
   "mimetype": "text/x-python",
   "name": "python",
   "nbconvert_exporter": "python",
   "pygments_lexer": "ipython3",
   "version": "3.6.13"
  }
 },
 "nbformat": 4,
 "nbformat_minor": 5
}
